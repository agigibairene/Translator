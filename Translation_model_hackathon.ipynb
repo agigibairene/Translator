{
  "nbformat": 4,
  "nbformat_minor": 0,
  "metadata": {
    "colab": {
      "provenance": [],
      "include_colab_link": true
    },
    "kernelspec": {
      "name": "python3",
      "display_name": "Python 3"
    },
    "language_info": {
      "name": "python"
    }
  },
  "cells": [
    {
      "cell_type": "markdown",
      "metadata": {
        "id": "view-in-github",
        "colab_type": "text"
      },
      "source": [
        "<a href=\"https://colab.research.google.com/github/agigibairene/Translator/blob/main/Translation_model_hackathon.ipynb\" target=\"_parent\"><img src=\"https://colab.research.google.com/assets/colab-badge.svg\" alt=\"Open In Colab\"/></a>"
      ]
    },
    {
      "cell_type": "code",
      "execution_count": null,
      "metadata": {
        "id": "ul3dM43ndO4g"
      },
      "outputs": [],
      "source": [
        "# Import necessary libraries\n",
        "import pandas as pd\n",
        "import re\n",
        "import nltk\n",
        "from nltk.tokenize import word_tokenize\n",
        "from tensorflow.keras.preprocessing.text import Tokenizer\n",
        "from tensorflow.keras.preprocessing.sequence import pad_sequences\n",
        "from sklearn.model_selection import train_test_split\n",
        "import tensorflow as tf\n",
        "from tensorflow.keras.layers import Input, Embedding, MultiHeadAttention, LayerNormalization, Dense, Dropout\n",
        "from tensorflow.keras.models import Model\n",
        "import numpy as np\n",
        "import matplotlib.pyplot as plt\n",
        "import json"
      ]
    },
    {
      "cell_type": "code",
      "source": [
        "# File paths (assuming they're in the same directory as your notebook)\n",
        "files = [\n",
        "    \"/content/kinyarwanda-english-corpus.tsv\",\n",
        "    \"/content/kinyarwanda-english-corpus2.tsv\",\n",
        "    \"/content/kinyarwanda-english-corpus3.tsv\"\n",
        "]\n",
        "\n",
        "# Load datasets\n",
        "datasets = [pd.read_csv(file, sep=\"\\t\", encoding=\"ISO-8859-1\") for file in files]"
      ],
      "metadata": {
        "id": "MKvMsFg8psVC"
      },
      "execution_count": null,
      "outputs": []
    },
    {
      "cell_type": "code",
      "source": [
        "# Inspect structure of each dataset\n",
        "for i, df in enumerate(datasets, 1):\n",
        "    print(f\"Dataset {i} shape: {df.shape}\")\n",
        "    print(df.head(), \"\\n\")"
      ],
      "metadata": {
        "colab": {
          "base_uri": "https://localhost:8080/"
        },
        "id": "oa3xBR6gqU5G",
        "outputId": "9301068f-97d1-4612-e94c-88f783e4e585"
      },
      "execution_count": null,
      "outputs": [
        {
          "output_type": "stream",
          "name": "stdout",
          "text": [
            "Dataset 1 shape: (14410, 2)\n",
            "                    Uruvunge rwabatuye uwo mujyi   \\\n",
            "0                       amuhamagara kuri telefone    \n",
            "1                      Pawulo yakundaga Timoteyo    \n",
            "2                      cyangwa ngo imenye aho ijya   \n",
            "3                  Ngendahimana yashakaga ikaramu    \n",
            "4  che guevara yahuye numunyacubahiro raul castro   \n",
            "\n",
            "  The crowd of the people who live in that city  \n",
            "0                   he called him on the phone   \n",
            "1                          Paul loved Timothy   \n",
            "2                or that it knows where it goes  \n",
            "3            Ngendahimana was looking for a pen  \n",
            "4    che guevara with his honorable raul castro   \n",
            "\n",
            "Dataset 2 shape: (25014, 2)\n",
            "  Ababyeyi babo bamaze gupfa basogokuru barabareze.   \\\n",
            "0  Waba uzi umubare wabantu bitabiriye kubyina ic...   \n",
            "1    Jya kuryama Ugomba kubyuka kare ejo mugitondo.    \n",
            "2    Nzasimbuza igihe cyatakaye nkora uko nshoboye.    \n",
            "3  Ngomba kumanika nonaha. Umuntu ategereje gukor...   \n",
            "4  Niba imiti idakora birashoboka ko tugomba kuba...   \n",
            "\n",
            "  After their parents died their grandparents raised them.  \n",
            "0  Do you know the number of people who attended ...        \n",
            "1  Go to bed You have to wake up early tomorrow m...        \n",
            "2     I will replace the lost time by doing my best.        \n",
            "3  I have to hang up now. Someone is waiting to u...        \n",
            "4  If the medication does not work we may need to...         \n",
            "\n",
            "Dataset 3 shape: (8397, 2)\n",
            "  Umwana muto yiruka yerekeza kuri kamera muri parike  \\\n",
            "0               Umukobwa ukiri muto ugenda kumuhanda    \n",
            "1                            Umwana wiruka kumuhanda    \n",
            "2  Imbwa mu gace k'umucanga hamwe n'umucanga yaza...    \n",
            "3  Imbwa yijimye izana umukungugu iyo yiruka mu m...    \n",
            "4                  Imbwa n'umucanga bihuha mu muyaga    \n",
            "\n",
            "  The little boy runs towards the camera in the park  \n",
            "0                 A young girl walks down the street  \n",
            "1                    A child running down the street  \n",
            "2  Dogs in the sand area with sand raised in the ...  \n",
            "3   A dark dog brings dust when it runs into a field  \n",
            "4                  Dogs and sand whisper in the wind   \n",
            "\n"
          ]
        }
      ]
    },
    {
      "cell_type": "code",
      "source": [
        "# Standardize column names\n",
        "for i, df in enumerate(datasets):\n",
        "    df.columns = [\"kinyarwanda\", \"english\"]\n",
        "    print(f\"Dataset {i+1} column names: {df.columns}\")\n",
        "\n",
        "# Merge all datasets\n",
        "combined_df = pd.concat(datasets, ignore_index=True)\n",
        "\n",
        "# Check final dataset shape and first few rows\n",
        "print(\"Final dataset shape:\", combined_df.shape)\n",
        "print(combined_df.head())"
      ],
      "metadata": {
        "colab": {
          "base_uri": "https://localhost:8080/"
        },
        "id": "ZiiA6xb5rDv_",
        "outputId": "f73e5a20-d1ce-4e52-beb1-63a52d0a75b7"
      },
      "execution_count": null,
      "outputs": [
        {
          "output_type": "stream",
          "name": "stdout",
          "text": [
            "Dataset 1 column names: Index(['kinyarwanda', 'english'], dtype='object')\n",
            "Dataset 2 column names: Index(['kinyarwanda', 'english'], dtype='object')\n",
            "Dataset 3 column names: Index(['kinyarwanda', 'english'], dtype='object')\n",
            "Final dataset shape: (47821, 2)\n",
            "                                       kinyarwanda  \\\n",
            "0                       amuhamagara kuri telefone    \n",
            "1                      Pawulo yakundaga Timoteyo    \n",
            "2                      cyangwa ngo imenye aho ijya   \n",
            "3                  Ngendahimana yashakaga ikaramu    \n",
            "4  che guevara yahuye numunyacubahiro raul castro   \n",
            "\n",
            "                                      english  \n",
            "0                 he called him on the phone   \n",
            "1                        Paul loved Timothy   \n",
            "2              or that it knows where it goes  \n",
            "3          Ngendahimana was looking for a pen  \n",
            "4  che guevara with his honorable raul castro  \n"
          ]
        }
      ]
    },
    {
      "cell_type": "code",
      "source": [
        "# Check for missing values\n",
        "print(\"Missing values:\\n\", combined_df.isnull().sum())"
      ],
      "metadata": {
        "colab": {
          "base_uri": "https://localhost:8080/"
        },
        "id": "YlI5VqwQrdFI",
        "outputId": "1ddca026-5fe1-43de-be21-cb06ec6327a9"
      },
      "execution_count": null,
      "outputs": [
        {
          "output_type": "stream",
          "name": "stdout",
          "text": [
            "Missing values:\n",
            " kinyarwanda     8\n",
            "english        12\n",
            "dtype: int64\n"
          ]
        }
      ]
    },
    {
      "cell_type": "code",
      "source": [
        "# Check for duplicates\n",
        "print(\"\\nDuplicate rows:\", combined_df.duplicated().sum())"
      ],
      "metadata": {
        "colab": {
          "base_uri": "https://localhost:8080/"
        },
        "id": "Qb9-_nDQrfHV",
        "outputId": "fa009c3d-d03a-4832-dcd9-40dab4a4eb9f"
      },
      "execution_count": null,
      "outputs": [
        {
          "output_type": "stream",
          "name": "stdout",
          "text": [
            "\n",
            "Duplicate rows: 2376\n"
          ]
        }
      ]
    },
    {
      "cell_type": "code",
      "source": [
        "# Inspect a few random samples for unusual characters\n",
        "print(\"\\nRandom samples:\")\n",
        "print(combined_df.sample(5))"
      ],
      "metadata": {
        "colab": {
          "base_uri": "https://localhost:8080/"
        },
        "id": "yh0QRI1friw8",
        "outputId": "172fe352-5e9d-4e89-8858-27c2cf602017"
      },
      "execution_count": null,
      "outputs": [
        {
          "output_type": "stream",
          "name": "stdout",
          "text": [
            "\n",
            "Random samples:\n",
            "                                             kinyarwanda  \\\n",
            "46406  Umusaza wambaye ishati yubururu yitwaje ikintu...   \n",
            "8994                     Amaze kubona ibi, arahaguruka     \n",
            "29837       Ikipe yacu yatsinze mumarushanwa ya kaminuza   \n",
            "44439  Abantu babiri barimo kwikuramo umugozi mumazi ...   \n",
            "3727   indirimbo yigihugu ni indirimbo umuntu wese ag...   \n",
            "\n",
            "                                                 english  \n",
            "46406  An old man wearing a blue shirt carried someth...  \n",
            "8994                         When he saw this, he got up  \n",
            "29837            Our team won the university competition  \n",
            "44439    Two people are pulling a rope out of blue water  \n",
            "3727   a national anthem is a song that should be kno...  \n"
          ]
        }
      ]
    },
    {
      "cell_type": "code",
      "source": [
        "# Drop missing values\n",
        "combined_df = combined_df.dropna()\n",
        "\n",
        "# Drop duplicate rows\n",
        "combined_df = combined_df.drop_duplicates()\n",
        "\n",
        "# Reset index\n",
        "combined_df = combined_df.reset_index(drop=True)\n",
        "\n",
        "# Check final shape\n",
        "print(\"Final dataset shape:\", combined_df.shape)"
      ],
      "metadata": {
        "colab": {
          "base_uri": "https://localhost:8080/"
        },
        "id": "a26mc03wr8Te",
        "outputId": "e399ffd2-3162-4985-f72b-58413694600f"
      },
      "execution_count": null,
      "outputs": [
        {
          "output_type": "stream",
          "name": "stdout",
          "text": [
            "Final dataset shape: (45441, 2)\n"
          ]
        }
      ]
    },
    {
      "cell_type": "code",
      "source": [
        "# Display unique characters in the dataset\n",
        "unique_chars = set(\"\".join(combined_df[\"kinyarwanda\"].astype(str)) + \"\".join(combined_df[\"english\"].astype(str)))\n",
        "print(\"Unique characters in dataset:\\n\", sorted(unique_chars))"
      ],
      "metadata": {
        "colab": {
          "base_uri": "https://localhost:8080/"
        },
        "id": "XfZaVFHIsICj",
        "outputId": "9593fe30-afa8-4cc1-e8ee-aa1ef0ac1887"
      },
      "execution_count": null,
      "outputs": [
        {
          "output_type": "stream",
          "name": "stdout",
          "text": [
            "Unique characters in dataset:\n",
            " [' ', '!', '\"', '$', '%', '&', \"'\", '(', ')', '*', '+', ',', '-', '.', '/', '0', '1', '2', '3', '4', '5', '6', '7', '8', '9', ':', ';', '=', '?', 'A', 'B', 'C', 'D', 'E', 'F', 'G', 'H', 'I', 'J', 'K', 'L', 'M', 'N', 'O', 'P', 'Q', 'R', 'S', 'T', 'U', 'V', 'W', 'X', 'Y', 'Z', '[', '\\\\', ']', '_', '`', 'a', 'b', 'c', 'd', 'e', 'f', 'g', 'h', 'i', 'j', 'k', 'l', 'm', 'n', 'o', 'p', 'q', 'r', 's', 't', 'u', 'v', 'w', 'x', 'y', 'z', '\\x85', '\\x91', '\\x92', '\\x93', '\\x94', '\\x96', '\\x97', '\\xa0', '«', '´', '»', 'Â', 'ã', 'æ', 'é', 'í', 'ô']\n"
          ]
        }
      ]
    },
    {
      "cell_type": "code",
      "source": [
        "def clean_text(text):\n",
        "    text = text.replace(\"\\xa0\", \" \")  # Non-breaking space\n",
        "    text = text.replace(\"Â\", \"\").replace(\"ã\", \"a\").replace(\"æ\", \"ae\")  # Common encoding artifacts\n",
        "    text = re.sub(r\"[\\x85\\x91-\\x97]\", \"\", text)  # Remove unwanted byte characters\n",
        "    text = text.strip()  # Remove extra spaces\n",
        "    return text\n",
        "\n",
        "# Apply cleaning to both columns\n",
        "combined_df[\"kinyarwanda\"] = combined_df[\"kinyarwanda\"].apply(clean_text)\n",
        "combined_df[\"english\"] = combined_df[\"english\"].apply(clean_text)\n",
        "\n",
        "# Verify cleanup\n",
        "print(\"Sample cleaned rows:\\n\", combined_df.sample(5))"
      ],
      "metadata": {
        "colab": {
          "base_uri": "https://localhost:8080/"
        },
        "id": "IOP7IVQCsd4a",
        "outputId": "bb708751-afab-483a-a6ac-27c88611f8ca"
      },
      "execution_count": null,
      "outputs": [
        {
          "output_type": "stream",
          "name": "stdout",
          "text": [
            "Sample cleaned rows:\n",
            "                                              kinyarwanda  \\\n",
            "2108                   Nzagomba gukuraho iyi tapi ishaje   \n",
            "36222                            Hariho akazi ko gukora.   \n",
            "22498                          mbona bamwe bari gutitira   \n",
            "12578                                     Ibi abikura he   \n",
            "40641  Abadamu babiri kumeza hamwe nigitambara gituku...   \n",
            "\n",
            "                                                 english  \n",
            "2108               I will have to remove this old carpet  \n",
            "36222                          There is work to be done.  \n",
            "22498                           I saw some of them shake  \n",
            "12578                        Where do you get this from?  \n",
            "40641  Two ladies at the table and a red dress playin...  \n"
          ]
        }
      ]
    },
    {
      "cell_type": "code",
      "source": [
        "pip install nltk\n"
      ],
      "metadata": {
        "colab": {
          "base_uri": "https://localhost:8080/"
        },
        "id": "7x2IAnpAtWeT",
        "outputId": "2215057c-349b-49f4-b961-c5f9631a0fa6"
      },
      "execution_count": null,
      "outputs": [
        {
          "output_type": "stream",
          "name": "stdout",
          "text": [
            "Requirement already satisfied: nltk in /usr/local/lib/python3.11/dist-packages (3.9.1)\n",
            "Requirement already satisfied: click in /usr/local/lib/python3.11/dist-packages (from nltk) (8.1.8)\n",
            "Requirement already satisfied: joblib in /usr/local/lib/python3.11/dist-packages (from nltk) (1.4.2)\n",
            "Requirement already satisfied: regex>=2021.8.3 in /usr/local/lib/python3.11/dist-packages (from nltk) (2024.11.6)\n",
            "Requirement already satisfied: tqdm in /usr/local/lib/python3.11/dist-packages (from nltk) (4.67.1)\n"
          ]
        }
      ]
    },
    {
      "cell_type": "code",
      "source": [
        "# Download NLTK resources (if not already downloaded)\n",
        "nltk.download('punkt')\n",
        "\n",
        "# Function to preprocess and tokenize (space-based tokenization for Kinyarwanda)\n",
        "def preprocess_and_tokenize(text):\n",
        "    # Convert text to lowercase\n",
        "    text = text.lower()\n",
        "    # Remove unwanted characters\n",
        "    text = re.sub(r\"[^\\w\\s]\", \"\", text)  # Remove punctuation\n",
        "    # Tokenize by splitting on spaces\n",
        "    tokens = text.split()\n",
        "    return tokens\n",
        "\n",
        "# Apply preprocessing to both columns\n",
        "combined_df[\"kinyarwanda_tokens\"] = combined_df[\"kinyarwanda\"].apply(preprocess_and_tokenize)\n",
        "combined_df[\"english_tokens\"] = combined_df[\"english\"].apply(preprocess_and_tokenize)\n",
        "\n",
        "# Display sample of tokenized data\n",
        "print(\"Sample tokenized rows:\\n\", combined_df[['kinyarwanda_tokens', 'english_tokens']].sample(5))"
      ],
      "metadata": {
        "colab": {
          "base_uri": "https://localhost:8080/"
        },
        "id": "YWT47wYfte4t",
        "outputId": "8dbc7127-035f-46f3-f39c-76bf647b28cc"
      },
      "execution_count": null,
      "outputs": [
        {
          "output_type": "stream",
          "name": "stderr",
          "text": [
            "[nltk_data] Downloading package punkt to /root/nltk_data...\n",
            "[nltk_data]   Unzipping tokenizers/punkt.zip.\n"
          ]
        },
        {
          "output_type": "stream",
          "name": "stdout",
          "text": [
            "Sample tokenized rows:\n",
            "                                       kinyarwanda_tokens  \\\n",
            "23408                     [kuki, utafata, umwanya, muto]   \n",
            "37617  [umugore, wishimira, gusoma, mu, iduka, rya, k...   \n",
            "1082                           [byabereye, byose, rimwe]   \n",
            "1717                 [ntiwibagirwe, gufunga, iyo, ugiye]   \n",
            "40983  [itsinda, ryabasore, bashyinguwe, mu, gituza, ...   \n",
            "\n",
            "                                          english_tokens  \n",
            "23408                  [why, not, take, a, little, time]  \n",
            "37617  [a, woman, who, enjoys, reading, in, a, coffee...  \n",
            "1082                [it, all, happened, the, same, time]  \n",
            "1717           [dont, forget, to, close, where, you, go]  \n",
            "40983  [a, group, of, young, men, are, buried, in, th...  \n"
          ]
        }
      ]
    },
    {
      "cell_type": "code",
      "source": [
        "# Create tokenizer for Kinyarwanda\n",
        "kinyarwanda_tokenizer = Tokenizer()\n",
        "kinyarwanda_tokenizer.fit_on_texts(combined_df[\"kinyarwanda\"])\n",
        "\n",
        "# Create tokenizer for English\n",
        "english_tokenizer = Tokenizer()\n",
        "english_tokenizer.fit_on_texts(combined_df[\"english\"])\n",
        "\n",
        "# Get the word index (vocabulary)\n",
        "kinyarwanda_vocab = kinyarwanda_tokenizer.word_index\n",
        "english_vocab = english_tokenizer.word_index\n",
        "\n",
        "# Define a fixed sequence length\n",
        "sequence_length = 60\n",
        "\n",
        "# Pad or truncate sequences for both Kinyarwanda and English tokens\n",
        "kinyarwanda_padded = pad_sequences(\n",
        "    combined_df[\"kinyarwanda_tokens\"].apply(lambda x: [kinyarwanda_vocab.get(w, 0) for w in x]),\n",
        "    maxlen=sequence_length, padding='post', truncating='post')\n",
        "\n",
        "english_padded = pad_sequences(\n",
        "    combined_df[\"english_tokens\"].apply(lambda x: [english_vocab.get(w, 0) for w in x]),\n",
        "    maxlen=sequence_length, padding='post', truncating='post')\n",
        "\n",
        "# Check the shape of the padded data\n",
        "print(\"Padded Kinyarwanda data shape:\", kinyarwanda_padded.shape)\n",
        "print(\"Padded English data shape:\", english_padded.shape)\n"
      ],
      "metadata": {
        "colab": {
          "base_uri": "https://localhost:8080/"
        },
        "id": "mmGX9a00u4zr",
        "outputId": "4a77ec87-6e99-42fa-97a1-4d351dc37974"
      },
      "execution_count": null,
      "outputs": [
        {
          "output_type": "stream",
          "name": "stdout",
          "text": [
            "Padded Kinyarwanda data shape: (45441, 60)\n",
            "Padded English data shape: (45441, 60)\n"
          ]
        }
      ]
    },
    {
      "cell_type": "code",
      "source": [
        "# Split the data into training and validation sets (80% for training, 20% for validation)\n",
        "kinyarwanda_train, kinyarwanda_val, english_train, english_val = train_test_split(\n",
        "    kinyarwanda_padded, english_padded, test_size=0.2, random_state=42)\n",
        "\n",
        "# Check the shapes of the training and validation sets\n",
        "print(\"Training Kinyarwanda shape:\", kinyarwanda_train.shape)\n",
        "print(\"Validation Kinyarwanda shape:\", kinyarwanda_val.shape)\n",
        "print(\"Training English shape:\", english_train.shape)\n",
        "print(\"Validation English shape:\", english_val.shape)"
      ],
      "metadata": {
        "colab": {
          "base_uri": "https://localhost:8080/"
        },
        "id": "vPrXpoElv8aH",
        "outputId": "e9a7544e-00ee-4dd1-a6d7-89435216304c"
      },
      "execution_count": null,
      "outputs": [
        {
          "output_type": "stream",
          "name": "stdout",
          "text": [
            "Training Kinyarwanda shape: (36352, 60)\n",
            "Validation Kinyarwanda shape: (9089, 60)\n",
            "Training English shape: (36352, 60)\n",
            "Validation English shape: (9089, 60)\n"
          ]
        }
      ]
    },
    {
      "cell_type": "code",
      "source": [
        "# Define the train size (e.g., 80% for training, 20% for validation)\n",
        "train_size = int(0.8 * len(kinyarwanda_padded))\n",
        "\n",
        "# Padded data for training and validation\n",
        "train_kinyarwanda, val_kinyarwanda = kinyarwanda_padded[:train_size], kinyarwanda_padded[train_size:]\n",
        "train_english, val_english = english_padded[:train_size], english_padded[train_size:]\n",
        "\n",
        "# Define the vocab size for Kinyarwanda and English\n",
        "kinyarwanda_vocab_size = len(kinyarwanda_tokenizer.word_index) + 1\n",
        "english_vocab_size = len(english_tokenizer.word_index) + 1"
      ],
      "metadata": {
        "id": "9ha6DRPvxkBH"
      },
      "execution_count": null,
      "outputs": []
    },
    {
      "cell_type": "code",
      "source": [
        "def transformer_model(input_vocab_size, target_vocab_size, seq_length, d_model=64, num_heads=4, num_layers=2):\n",
        "    # Encoder Input\n",
        "    encoder_input = Input(shape=(seq_length,))\n",
        "    encoder_embedding = Embedding(input_vocab_size, d_model)(encoder_input)\n",
        "\n",
        "    # Add Positional Encoding\n",
        "    position_encoding = get_positional_encoding(seq_length, d_model)\n",
        "    encoder_input_with_pos = encoder_embedding + position_encoding\n",
        "\n",
        "    # Encoder Layers\n",
        "    encoder_output = encoder_input_with_pos\n",
        "    for _ in range(num_layers):\n",
        "        attention_output = MultiHeadAttention(num_heads=num_heads, key_dim=d_model)(encoder_output, encoder_output)\n",
        "        attention_output = Dropout(0.1)(attention_output)\n",
        "        encoder_output = LayerNormalization()(encoder_output + attention_output)\n",
        "        feed_forward = Dense(d_model, activation=\"relu\")(encoder_output)\n",
        "        encoder_output = LayerNormalization()(encoder_output + feed_forward)\n",
        "\n",
        "    # Decoder Input\n",
        "    decoder_input = Input(shape=(seq_length,))\n",
        "    decoder_embedding = Embedding(target_vocab_size, d_model)(decoder_input)\n",
        "\n",
        "    # Decoder Layers\n",
        "    decoder_output = decoder_embedding + position_encoding\n",
        "    for _ in range(num_layers):\n",
        "        attention_output = MultiHeadAttention(num_heads=num_heads, key_dim=d_model)(decoder_output, encoder_output)\n",
        "        attention_output = Dropout(0.1)(attention_output)\n",
        "        decoder_output = LayerNormalization()(decoder_output + attention_output)\n",
        "        feed_forward = Dense(d_model, activation=\"relu\")(decoder_output)\n",
        "        decoder_output = LayerNormalization()(decoder_output + feed_forward)\n",
        "\n",
        "    # Output layer\n",
        "    output = Dense(target_vocab_size, activation=\"softmax\")(decoder_output)\n",
        "\n",
        "    model = Model(inputs=[encoder_input, decoder_input], outputs=output)\n",
        "    model.compile(optimizer=tf.keras.optimizers.Adam(), loss='sparse_categorical_crossentropy', metrics=['accuracy'])\n",
        "\n",
        "    return model"
      ],
      "metadata": {
        "id": "V_wv-3onyxKc"
      },
      "execution_count": null,
      "outputs": []
    },
    {
      "cell_type": "code",
      "source": [
        "def get_positional_encoding(seq_len, d_model):\n",
        "    angle_rads = np.array([[pos / np.power(10000, (2 * (j // 2)) / d_model) for j in range(d_model)] for pos in range(seq_len)])\n",
        "    angle_rads[:, 0::2] = np.sin(angle_rads[:, 0::2])  # apply sine to even indices\n",
        "    angle_rads[:, 1::2] = np.cos(angle_rads[:, 1::2])  # apply cosine to odd indices\n",
        "    return tf.constant(angle_rads, dtype=tf.float32)"
      ],
      "metadata": {
        "id": "sYtU-kOGzFrD"
      },
      "execution_count": null,
      "outputs": []
    },
    {
      "cell_type": "code",
      "source": [
        "# Print tokenized samples\n",
        "for i in range(5):\n",
        "    print(f\"Original Kinyarwanda: {combined_df.iloc[i]['kinyarwanda']}\")\n",
        "    print(f\"Tokenized Kinyarwanda: {combined_df.iloc[i]['kinyarwanda_tokens']}\")\n",
        "    print(f\"Original English: {combined_df.iloc[i]['english']}\")\n",
        "    print(f\"Tokenized English: {combined_df.iloc[i]['english_tokens']}\")\n",
        "    print(\"-\" * 50)"
      ],
      "metadata": {
        "colab": {
          "base_uri": "https://localhost:8080/"
        },
        "id": "bg8afiNKL8UD",
        "outputId": "d3daee6c-f8cf-4580-edb1-dd65e421d4f4"
      },
      "execution_count": null,
      "outputs": [
        {
          "output_type": "stream",
          "name": "stdout",
          "text": [
            "Original Kinyarwanda: amuhamagara kuri telefone\n",
            "Tokenized Kinyarwanda: ['amuhamagara', 'kuri', 'telefone']\n",
            "Original English: he called him on the phone\n",
            "Tokenized English: ['he', 'called', 'him', 'on', 'the', 'phone']\n",
            "--------------------------------------------------\n",
            "Original Kinyarwanda: Pawulo yakundaga Timoteyo\n",
            "Tokenized Kinyarwanda: ['pawulo', 'yakundaga', 'timoteyo']\n",
            "Original English: Paul loved Timothy\n",
            "Tokenized English: ['paul', 'loved', 'timothy']\n",
            "--------------------------------------------------\n",
            "Original Kinyarwanda: cyangwa ngo imenye aho ijya\n",
            "Tokenized Kinyarwanda: ['cyangwa', 'ngo', 'imenye', 'aho', 'ijya']\n",
            "Original English: or that it knows where it goes\n",
            "Tokenized English: ['or', 'that', 'it', 'knows', 'where', 'it', 'goes']\n",
            "--------------------------------------------------\n",
            "Original Kinyarwanda: Ngendahimana yashakaga ikaramu\n",
            "Tokenized Kinyarwanda: ['ngendahimana', 'yashakaga', 'ikaramu']\n",
            "Original English: Ngendahimana was looking for a pen\n",
            "Tokenized English: ['ngendahimana', 'was', 'looking', 'for', 'a', 'pen']\n",
            "--------------------------------------------------\n",
            "Original Kinyarwanda: che guevara yahuye numunyacubahiro raul castro\n",
            "Tokenized Kinyarwanda: ['che', 'guevara', 'yahuye', 'numunyacubahiro', 'raul', 'castro']\n",
            "Original English: che guevara with his honorable raul castro\n",
            "Tokenized English: ['che', 'guevara', 'with', 'his', 'honorable', 'raul', 'castro']\n",
            "--------------------------------------------------\n"
          ]
        }
      ]
    },
    {
      "cell_type": "code",
      "source": [
        "# Print sample word indices\n",
        "for i in range(5):\n",
        "    kin_tokens = combined_df.iloc[i][\"kinyarwanda_tokens\"]\n",
        "    eng_tokens = combined_df.iloc[i][\"english_tokens\"]\n",
        "\n",
        "    kin_indices = [kinyarwanda_tokenizer.word_index.get(word, -1) for word in kin_tokens]\n",
        "    eng_indices = [english_tokenizer.word_index.get(word, -1) for word in eng_tokens]\n",
        "\n",
        "    print(f\"Kinyarwanda Tokens: {kin_tokens}\")\n",
        "    print(f\"Kinyarwanda Indices: {kin_indices}\")\n",
        "    print(f\"English Tokens: {eng_tokens}\")\n",
        "    print(f\"English Indices: {eng_indices}\")\n",
        "    print(\"-\" * 50)\n"
      ],
      "metadata": {
        "colab": {
          "base_uri": "https://localhost:8080/"
        },
        "id": "TTjw0ulrMZLB",
        "outputId": "838db162-1881-46c3-b0f8-4235fb935066"
      },
      "execution_count": null,
      "outputs": [
        {
          "output_type": "stream",
          "name": "stdout",
          "text": [
            "Kinyarwanda Tokens: ['amuhamagara', 'kuri', 'telefone']\n",
            "Kinyarwanda Indices: [15177, 12, 1729]\n",
            "English Tokens: ['he', 'called', 'him', 'on', 'the', 'phone']\n",
            "English Indices: [10, 326, 40, 16, 1, 394]\n",
            "--------------------------------------------------\n",
            "Kinyarwanda Tokens: ['pawulo', 'yakundaga', 'timoteyo']\n",
            "Kinyarwanda Indices: [161, 1538, 2959]\n",
            "English Tokens: ['paul', 'loved', 'timothy']\n",
            "English Indices: [239, 631, 2293]\n",
            "--------------------------------------------------\n",
            "Kinyarwanda Tokens: ['cyangwa', 'ngo', 'imenye', 'aho', 'ijya']\n",
            "Kinyarwanda Indices: [55, 46, 10042, 70, 2192]\n",
            "English Tokens: ['or', 'that', 'it', 'knows', 'where', 'it', 'goes']\n",
            "English Indices: [94, 11, 12, 357, 143, 12, 549]\n",
            "--------------------------------------------------\n",
            "Kinyarwanda Tokens: ['ngendahimana', 'yashakaga', 'ikaramu']\n",
            "Kinyarwanda Indices: [15178, 371, 2097]\n",
            "English Tokens: ['ngendahimana', 'was', 'looking', 'for', 'a', 'pen']\n",
            "English Indices: [7522, 22, 235, 25, 2, 1196]\n",
            "--------------------------------------------------\n",
            "Kinyarwanda Tokens: ['che', 'guevara', 'yahuye', 'numunyacubahiro', 'raul', 'castro']\n",
            "Kinyarwanda Indices: [5369, 5370, 1998, 15179, 15180, 10043]\n",
            "English Tokens: ['che', 'guevara', 'with', 'his', 'honorable', 'raul', 'castro']\n",
            "English Indices: [3717, 3718, 21, 27, 3719, 7523, 5775]\n",
            "--------------------------------------------------\n"
          ]
        }
      ]
    },
    {
      "cell_type": "code",
      "source": [
        "# Instantiate the model\n",
        "model = transformer_model(input_vocab_size=kinyarwanda_vocab_size,\n",
        "                          target_vocab_size=english_vocab_size,\n",
        "                          seq_length=60)\n",
        "\n",
        "# Train the model\n",
        "history = model.fit(\n",
        "    [train_kinyarwanda, train_english],\n",
        "    np.expand_dims(train_english, -1),  # Target sequence (shifted by one for teacher forcing)\n",
        "    epochs=10,\n",
        "    batch_size=64,\n",
        "    validation_data=([val_kinyarwanda, val_english], np.expand_dims(val_english, -1))\n",
        ")"
      ],
      "metadata": {
        "colab": {
          "base_uri": "https://localhost:8080/"
        },
        "id": "tnandGxXzJQd",
        "outputId": "328d8b97-58a6-441f-e650-d5f4e076d98e"
      },
      "execution_count": null,
      "outputs": [
        {
          "output_type": "stream",
          "name": "stdout",
          "text": [
            "Epoch 1/10\n",
            "\u001b[1m568/568\u001b[0m \u001b[32m━━━━━━━━━━━━━━━━━━━━\u001b[0m\u001b[37m\u001b[0m \u001b[1m1567s\u001b[0m 3s/step - accuracy: 0.8753 - loss: 2.6593 - val_accuracy: 0.9496 - val_loss: 0.4395\n",
            "Epoch 2/10\n",
            "\u001b[1m568/568\u001b[0m \u001b[32m━━━━━━━━━━━━━━━━━━━━\u001b[0m\u001b[37m\u001b[0m \u001b[1m1576s\u001b[0m 3s/step - accuracy: 0.9818 - loss: 0.1685 - val_accuracy: 0.9798 - val_loss: 0.2069\n",
            "Epoch 3/10\n",
            "\u001b[1m568/568\u001b[0m \u001b[32m━━━━━━━━━━━━━━━━━━━━\u001b[0m\u001b[37m\u001b[0m \u001b[1m1578s\u001b[0m 3s/step - accuracy: 0.9926 - loss: 0.0731 - val_accuracy: 0.9854 - val_loss: 0.1472\n",
            "Epoch 4/10\n",
            "\u001b[1m568/568\u001b[0m \u001b[32m━━━━━━━━━━━━━━━━━━━━\u001b[0m\u001b[37m\u001b[0m \u001b[1m1594s\u001b[0m 3s/step - accuracy: 0.9959 - loss: 0.0408 - val_accuracy: 0.9882 - val_loss: 0.1212\n",
            "Epoch 5/10\n",
            "\u001b[1m568/568\u001b[0m \u001b[32m━━━━━━━━━━━━━━━━━━━━\u001b[0m\u001b[37m\u001b[0m \u001b[1m1560s\u001b[0m 3s/step - accuracy: 0.9975 - loss: 0.0252 - val_accuracy: 0.9898 - val_loss: 0.1092\n",
            "Epoch 6/10\n",
            "\u001b[1m568/568\u001b[0m \u001b[32m━━━━━━━━━━━━━━━━━━━━\u001b[0m\u001b[37m\u001b[0m \u001b[1m1541s\u001b[0m 3s/step - accuracy: 0.9979 - loss: 0.0164 - val_accuracy: 0.9906 - val_loss: 0.0999\n",
            "Epoch 7/10\n",
            "\u001b[1m568/568\u001b[0m \u001b[32m━━━━━━━━━━━━━━━━━━━━\u001b[0m\u001b[37m\u001b[0m \u001b[1m1532s\u001b[0m 3s/step - accuracy: 0.9994 - loss: 0.0104 - val_accuracy: 0.9924 - val_loss: 0.0967\n",
            "Epoch 8/10\n",
            "\u001b[1m568/568\u001b[0m \u001b[32m━━━━━━━━━━━━━━━━━━━━\u001b[0m\u001b[37m\u001b[0m \u001b[1m1502s\u001b[0m 3s/step - accuracy: 1.0000 - loss: 0.0061 - val_accuracy: 0.9928 - val_loss: 0.0911\n",
            "Epoch 9/10\n",
            "\u001b[1m568/568\u001b[0m \u001b[32m━━━━━━━━━━━━━━━━━━━━\u001b[0m\u001b[37m\u001b[0m \u001b[1m1505s\u001b[0m 3s/step - accuracy: 1.0000 - loss: 0.0027 - val_accuracy: 0.9928 - val_loss: 0.0898\n",
            "Epoch 10/10\n",
            "\u001b[1m568/568\u001b[0m \u001b[32m━━━━━━━━━━━━━━━━━━━━\u001b[0m\u001b[37m\u001b[0m \u001b[1m1540s\u001b[0m 3s/step - accuracy: 1.0000 - loss: 9.2813e-04 - val_accuracy: 0.9928 - val_loss: 0.0900\n"
          ]
        }
      ]
    },
    {
      "cell_type": "code",
      "source": [
        "# Evaluate model on validation set\n",
        "eval_loss, eval_accuracy = model.evaluate([val_kinyarwanda, val_english], np.expand_dims(val_english, -1))\n",
        "print(f\"Validation Loss: {eval_loss:.4f}\")\n",
        "print(f\"Validation Accuracy: {eval_accuracy:.4f}\")"
      ],
      "metadata": {
        "colab": {
          "base_uri": "https://localhost:8080/"
        },
        "id": "EQWDT0J3KR3m",
        "outputId": "992a0723-14a1-488e-8948-54933145f41e"
      },
      "execution_count": null,
      "outputs": [
        {
          "output_type": "stream",
          "name": "stdout",
          "text": [
            "\u001b[1m285/285\u001b[0m \u001b[32m━━━━━━━━━━━━━━━━━━━━\u001b[0m\u001b[37m\u001b[0m \u001b[1m193s\u001b[0m 677ms/step - accuracy: 0.9940 - loss: 0.0751\n",
            "Validation Loss: 0.0900\n",
            "Validation Accuracy: 0.9928\n"
          ]
        }
      ]
    },
    {
      "cell_type": "code",
      "source": [
        "plt.figure(figsize=(12, 5))\n",
        "\n",
        "# Plot loss\n",
        "plt.subplot(1, 2, 1)\n",
        "plt.plot(history.history['loss'], label='Train Loss')\n",
        "plt.plot(history.history['val_loss'], label='Val Loss')\n",
        "plt.xlabel('Epochs')\n",
        "plt.ylabel('Loss')\n",
        "plt.title('Training & Validation Loss')\n",
        "plt.legend()\n",
        "\n",
        "# Plot accuracy\n",
        "plt.subplot(1, 2, 2)\n",
        "plt.plot(history.history['accuracy'], label='Train Accuracy')\n",
        "plt.plot(history.history['val_accuracy'], label='Val Accuracy')\n",
        "plt.xlabel('Epochs')\n",
        "plt.ylabel('Accuracy')\n",
        "plt.title('Training & Validation Accuracy')\n",
        "plt.legend()\n",
        "\n",
        "plt.show()"
      ],
      "metadata": {
        "colab": {
          "base_uri": "https://localhost:8080/",
          "height": 487
        },
        "id": "CzuxpS6q0Bqa",
        "outputId": "95b5419a-b639-48e6-b5b8-c1baa0ca411b"
      },
      "execution_count": null,
      "outputs": [
        {
          "output_type": "display_data",
          "data": {
            "text/plain": [
              "<Figure size 1200x500 with 2 Axes>"
            ],
            "image/png": "[encoded data removed]"
          },
          "metadata": {}
        }
      ]
    },
    {
      "cell_type": "code",
      "source": [
        "# Translation function\n",
        "def translate_text(input_text, tokenizer, max_len, model, target_tokenizer):\n",
        "    input_seq = tokenizer.texts_to_sequences([input_text])\n",
        "    input_padded = pad_sequences(input_seq, maxlen=max_len, padding='post')\n",
        "\n",
        "    prediction = model.predict([input_padded, input_padded])\n",
        "    predicted_seq = np.argmax(prediction, axis=-1)[0]\n",
        "\n",
        "    translated_text = ' '.join([target_tokenizer.index_word.get(idx, '') for idx in predicted_seq if idx > 0])\n",
        "    return translated_text\n",
        "\n",
        "# Test translations\n",
        "test_sentences = [\"Muraho\", \"Ndashaka amazi\", \"Ese uri he?\"]\n",
        "for sentence in test_sentences:\n",
        "    translated = translate_text(sentence, kinyarwanda_tokenizer, sequence_length, model, english_tokenizer)\n",
        "    print(f\"Kinyarwanda: {sentence} -> English: {translated}\")\n"
      ],
      "metadata": {
        "colab": {
          "base_uri": "https://localhost:8080/"
        },
        "id": "ZGRNqRBwKnEg",
        "outputId": "befb2bae-b412-4522-d15c-2900faf00a1a"
      },
      "execution_count": null,
      "outputs": [
        {
          "output_type": "stream",
          "name": "stdout",
          "text": [
            "\u001b[1m1/1\u001b[0m \u001b[32m━━━━━━━━━━━━━━━━━━━━\u001b[0m\u001b[37m\u001b[0m \u001b[1m1s\u001b[0m 602ms/step\n",
            "Kinyarwanda: Muraho -> English: himjust\n",
            "\u001b[1m1/1\u001b[0m \u001b[32m━━━━━━━━━━━━━━━━━━━━\u001b[0m\u001b[37m\u001b[0m \u001b[1m0s\u001b[0m 49ms/step\n",
            "Kinyarwanda: Ndashaka amazi -> English: say others\n",
            "\u001b[1m1/1\u001b[0m \u001b[32m━━━━━━━━━━━━━━━━━━━━\u001b[0m\u001b[37m\u001b[0m \u001b[1m0s\u001b[0m 52ms/step\n",
            "Kinyarwanda: Ese uri he? -> English: being three lord\n"
          ]
        }
      ]
    },
    {
      "cell_type": "code",
      "source": [
        "# Save the trained model\n",
        "model.save(\"translation_model.h5\")\n",
        "model.save(\"trannslation_model.keras\")\n",
        "\n",
        "# Save Kinyarwanda tokenizer\n",
        "kinyarwanda_tokenizer_json = kinyarwanda_tokenizer.to_json()\n",
        "with open(\"kinyarwanda_tokenizer.json\", \"w\", encoding=\"utf-8\") as f:\n",
        "    f.write(json.dumps(kinyarwanda_tokenizer_json, ensure_ascii=False))\n",
        "\n",
        "# Save English tokenizer\n",
        "english_tokenizer_json = english_tokenizer.to_json()\n",
        "with open(\"english_tokenizer.json\", \"w\", encoding=\"utf-8\") as f:\n",
        "    f.write(json.dumps(english_tokenizer_json, ensure_ascii=False))\n",
        "\n",
        "print(\"Model and tokenizers saved successfully.\")\n"
      ],
      "metadata": {
        "colab": {
          "base_uri": "https://localhost:8080/"
        },
        "id": "l6h3DsWtK5fw",
        "outputId": "14f08401-9757-4aac-f25a-59a19103f689"
      },
      "execution_count": null,
      "outputs": [
        {
          "output_type": "stream",
          "name": "stderr",
          "text": [
            "WARNING:absl:You are saving your model as an HDF5 file via `model.save()` or `keras.saving.save_model(model)`. This file format is considered legacy. We recommend using instead the native Keras format, e.g. `model.save('my_model.keras')` or `keras.saving.save_model(model, 'my_model.keras')`. \n"
          ]
        },
        {
          "output_type": "stream",
          "name": "stdout",
          "text": [
            "Model and tokenizers saved successfully.\n"
          ]
        }
      ]
    }
  ]
}